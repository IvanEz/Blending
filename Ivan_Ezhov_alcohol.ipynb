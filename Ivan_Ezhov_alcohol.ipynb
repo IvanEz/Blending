{
 "cells": [
  {
   "cell_type": "code",
   "execution_count": 33,
   "metadata": {
    "collapsed": false
   },
   "outputs": [],
   "source": [
    "import seaborn as sns\n",
    "from sklearn.ensemble import RandomForestClassifier\n",
    "from sklearn.multioutput import MultiOutputClassifier\n",
    "\n",
    "import warnings\n",
    "import numpy as np\n",
    "warnings.filterwarnings('ignore')\n",
    "%matplotlib inline\n",
    "\n",
    "from matplotlib import pyplot as plt\n",
    "\n",
    "import pandas as pd\n",
    "from pandas import get_dummies\n",
    "from sklearn.model_selection import cross_val_score, StratifiedKFold, GridSearchCV\n",
    "from sklearn.metrics import accuracy_score\n",
    "from sklearn.model_selection import train_test_split\n",
    "from sklearn.model_selection import KFold\n",
    "from sklearn.model_selection import GroupKFold"
   ]
  },
  {
   "cell_type": "code",
   "execution_count": 34,
   "metadata": {
    "collapsed": false
   },
   "outputs": [],
   "source": [
    "data = pd.read_csv(\"./student/student-mat.csv\", sep=';')\n"
   ]
  },
  {
   "cell_type": "code",
   "execution_count": 35,
   "metadata": {
    "collapsed": false
   },
   "outputs": [],
   "source": [
    "#choose 'Walc' as labels and encode them into one-hot\n",
    "labels = data['Walc']\n",
    "labels_with_dummies = pd.get_dummies(labels)\n",
    "y = labels_with_dummies.astype('int').values\n"
   ]
  },
  {
   "cell_type": "code",
   "execution_count": 36,
   "metadata": {
    "collapsed": false
   },
   "outputs": [],
   "source": [
    "#use the whole dataframe(except 'Wals') as feature set (categorical features are also encoded into one-hot)\n",
    "features = data.drop('Walc', axis=1)\n",
    "features_with_dummies = pd.get_dummies(features.select_dtypes(include=['object']))\n",
    "df_full = pd.concat([features, features_with_dummies], axis=1)\n",
    "\n",
    "X = df_full.drop(features.select_dtypes(include=['object']), axis=1).astype('int').values\n"
   ]
  },
  {
   "cell_type": "code",
   "execution_count": 37,
   "metadata": {
    "collapsed": false
   },
   "outputs": [
    {
     "name": "stdout",
     "output_type": "stream",
     "text": [
      "CPU times: user 47.8 s, sys: 6.93 s, total: 54.7 s\n",
      "Wall time: 2min 56s\n"
     ]
    }
   ],
   "source": [
    "%%time\n",
    "# Dataset splitting for cross-validation\n",
    "\n",
    "kf = KFold(n_splits=4, random_state=None, shuffle=False)\n",
    "#kf = GroupKFold(n_splits=2)\n",
    "#groups = [x for x in range(0,395)]\n",
    "\n",
    "# Learning on the splitted set\n",
    "train_acc = []\n",
    "test_acc = []\n",
    "temp_train_acc = []\n",
    "temp_test_acc = []\n",
    "trees_cv = [x for x in range(25,400,25)]\n",
    "max_depth_grid = [3, 5, 7, 9, 11, 13, 15, 17, 20, 22, 24]\n",
    "\n",
    "\n",
    "for ntrees in trees_cv:\n",
    "    # applying random forest algorithm with multioutput classification support (the method revealed \n",
    "    # greatest performance according to the original paper: \n",
    "    # https://repositorium.sdum.uminho.pt/bitstream/1822/8024/1/student.pdf )\n",
    "    rfc = RandomForestClassifier(n_estimators=ntrees, max_features=55, n_jobs=-1, oob_score=True, \n",
    "                                 max_depth=15, min_samples_leaf=1)\n",
    "    multi_target_forest = MultiOutputClassifier(rfc, n_jobs=-1)\n",
    "    temp_train_acc = []\n",
    "    temp_test_acc = []\n",
    "    for train_index, test_index in kf.split(X, y):\n",
    "        X_train, X_test = X[train_index], X[test_index]\n",
    "        y_train, y_test = y[train_index], y[test_index]\n",
    "        multi_target_forest.fit(X_train, y_train)\n",
    "        temp_train_acc.append(multi_target_forest.score(X_train, y_train))\n",
    "        temp_test_acc.append(multi_target_forest.score(X_test, y_test))\n",
    "    train_acc.append(temp_train_acc)\n",
    "    test_acc.append(temp_test_acc)\n",
    "\n",
    "#print(kf.get_n_splits(X))\n",
    "\n",
    "\n",
    "\n"
   ]
  },
  {
   "cell_type": "code",
   "execution_count": 38,
   "metadata": {
    "collapsed": false
   },
   "outputs": [
    {
     "name": "stdout",
     "output_type": "stream",
     "text": [
      "Best accuracy on cross-validation is 29.35% with 350 trees\n"
     ]
    },
    {
     "data": {
      "image/png": "[encoded data removed]",
      "text/plain": [
       "<matplotlib.figure.Figure at 0x7fe72ece7dd8>"
      ]
     },
     "metadata": {},
     "output_type": "display_data"
    }
   ],
   "source": [
    "#Cross-validation plot tree_greed\n",
    "train_acc, test_acc = np.asarray(train_acc), np.asarray(test_acc)\n",
    "print(\"Best accuracy on cross-validation is {:.2f}% with {} trees\".format(max(test_acc.mean(axis=1))*100, \n",
    "                                                        trees_cv[np.argmax(test_acc.mean(axis=1))]))\n",
    "_, f = plt.subplots(figsize=(8, 6))\n",
    "f.plot(trees_cv, train_acc.mean(axis=1), alpha=0.5, color='blue', label='training')\n",
    "f.plot(trees_cv, test_acc.mean(axis=1), alpha=0.5, color='red', label='cross-validation')\n",
    "f.fill_between(trees_cv, test_acc.mean(axis=1) - test_acc.std(axis=1), test_acc.mean(axis=1) + test_acc.std(axis=1), alpha=0.4)\n",
    "f.legend()\n",
    "f.set_ylim([0.0,1.02])\n",
    "f.set_ylabel(\"Accuracy\")\n",
    "f.set_xlabel(\"Trees number\");"
   ]
  },
  {
   "cell_type": "code",
   "execution_count": 32,
   "metadata": {
    "collapsed": false
   },
   "outputs": [
    {
     "name": "stdout",
     "output_type": "stream",
     "text": [
      "Best accuracy on cross-validation is 61.78% with 375 trees\n"
     ]
    },
    {
     "data": {
      "image/png": "[encoded data removed]",
      "text/plain": [
       "<matplotlib.figure.Figure at 0x7fe72ced7a20>"
      ]
     },
     "metadata": {},
     "output_type": "display_data"
    }
   ],
   "source": [
    "#add Portugal dataset\n",
    "data1 = pd.read_csv(\"./student/student-mat.csv\", sep=';')\n",
    "data2 = pd.read_csv(\"./student/student-por.csv\", sep=';')\n",
    "\n",
    "frames = [data1, data2]\n",
    "data_full = pd.concat(frames)\n",
    "\n",
    "\n",
    "#choose 'Walc' as labels and encode them into one-hot\n",
    "labels_new = data_full['Walc']\n",
    "labels_new_with_dummies = pd.get_dummies(labels_new)\n",
    "y1 = labels_new_with_dummies.astype('int').values\n",
    "\n",
    "#use the whole dataframe(except 'Wals') as feature set (categorical features are also encoded into one-hot)\n",
    "features_new = data_full.drop('Walc', axis=1)\n",
    "features_new_with_dummies = pd.get_dummies(features_new.select_dtypes(include=['object']))\n",
    "df_new_full = pd.concat([features_new, features_new_with_dummies], axis=1)\n",
    "\n",
    "X1 = df_new_full.drop(features_new.select_dtypes(include=['object']), axis=1).astype('int').values\n",
    "\n",
    "#%%time\n",
    "# Dataset splitting for cross-validation\n",
    "\n",
    "kf = KFold(n_splits=4, random_state=None, shuffle=False)\n",
    "#kf = GroupKFold(n_splits=2)\n",
    "#groups = [x for x in range(0,395)]\n",
    "\n",
    "# Learning on the splitted set\n",
    "train_acc1 = []\n",
    "test_acc1 = []\n",
    "temp_train_acc = []\n",
    "temp_test_acc = []\n",
    "trees_cv = [x for x in range(1,400,25)]\n",
    "max_depth_grid = [3, 5, 7, 9, 11, 13, 15, 17, 20, 22, 24]\n",
    "max_features_grid = [10, 20, 30, 40, 50]\n",
    "\n",
    "#for max_features in max_features_grid:\n",
    "for ntrees in trees_cv:\n",
    "    # applying random forest algorithm with multioutput classification support (the method revealed \n",
    "    # greatest performance according to the original paper: \n",
    "    # https://repositorium.sdum.uminho.pt/bitstream/1822/8024/1/student.pdf )\n",
    "    rfc = RandomForestClassifier(n_estimators=ntrees, max_features=55, n_jobs=-1, oob_score=True, \n",
    "                                 max_depth=15, min_samples_leaf=1)\n",
    "    multi_target_forest = MultiOutputClassifier(rfc, n_jobs=-1)\n",
    "    temp_train_acc = []\n",
    "    temp_test_acc = []\n",
    "    for train_index1, test_index1 in kf.split(X1, y1):\n",
    "        X_train1, X_test1 = X1[train_index1], X1[test_index1]\n",
    "        y_train1, y_test1 = y1[train_index1], y1[test_index1]\n",
    "        multi_target_forest.fit(X_train1, y_train1)\n",
    "        temp_train_acc.append(multi_target_forest.score(X_train1, y_train1))\n",
    "        temp_test_acc.append(multi_target_forest.score(X_test1, y_test1))\n",
    "    train_acc1.append(temp_train_acc)\n",
    "    test_acc1.append(temp_test_acc)\n",
    "    \n",
    "#print(kf.get_n_splits(X))\n",
    "\n",
    "#Cross-validation plot tree_greed\n",
    "train_acc1, test_acc1 = np.asarray(train_acc1), np.asarray(test_acc1)\n",
    "print(\"Best accuracy on cross-validation is {:.2f}% with {} trees\".format(max(test_acc1.mean(axis=1))*100, \n",
    "                                                        trees_cv[np.argmax(test_acc1.mean(axis=1))]))\n",
    "_, f = plt.subplots(figsize=(8, 6))\n",
    "f.plot(trees_cv, train_acc1.mean(axis=1), alpha=0.5, color='blue', label='training')\n",
    "f.plot(trees_cv, test_acc1.mean(axis=1), alpha=0.5, color='red', label='cross-validation')\n",
    "f.fill_between(trees_cv, test_acc1.mean(axis=1) - test_acc1.std(axis=1), test_acc1.mean(axis=1) + test_acc1.std(axis=1), alpha=0.4)\n",
    "f.legend()\n",
    "f.set_ylim([0.2,1.0])\n",
    "f.set_ylabel(\"Accuracy\")\n",
    "f.set_xlabel(\"Trees number\");"
   ]
  },
  {
   "cell_type": "code",
   "execution_count": null,
   "metadata": {
    "collapsed": false
   },
   "outputs": [],
   "source": [
    "\n",
    "\n"
   ]
  },
  {
   "cell_type": "code",
   "execution_count": null,
   "metadata": {
    "collapsed": false
   },
   "outputs": [],
   "source": []
  },
  {
   "cell_type": "code",
   "execution_count": null,
   "metadata": {
    "collapsed": false
   },
   "outputs": [],
   "source": []
  },
  {
   "cell_type": "code",
   "execution_count": null,
   "metadata": {
    "collapsed": false
   },
   "outputs": [],
   "source": []
  },
  {
   "cell_type": "code",
   "execution_count": null,
   "metadata": {
    "collapsed": true
   },
   "outputs": [],
   "source": []
  }
 ],
 "metadata": {
  "kernelspec": {
   "display_name": "Python 3",
   "language": "python",
   "name": "python3"
  },
  "language_info": {
   "codemirror_mode": {
    "name": "ipython",
    "version": 3
   },
   "file_extension": ".py",
   "mimetype": "text/x-python",
   "name": "python",
   "nbconvert_exporter": "python",
   "pygments_lexer": "ipython3",
   "version": "3.6.0"
  }
 },
 "nbformat": 4,
 "nbformat_minor": 2
}
